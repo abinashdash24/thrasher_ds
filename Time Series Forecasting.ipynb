{
 "cells": [
  {
   "cell_type": "code",
   "execution_count": null,
   "id": "dc8f2718",
   "metadata": {},
   "outputs": [],
   "source": [
    "## https://en.wikipedia.org/wiki/Autoregressive_model\n",
    "# https://www.statsmodels.org/stable/tsa.html#autoregressive-moving-average-processes-arma-and-kalman-filter\n",
    "# https://machinelearningmastery.com/time-series-forecasting-methods-in-python-cheat-sheet/\n",
    "# https://machinelearningmastery.com/arima-for-time-series-forecasting-with-python/"
   ]
  },
  {
   "cell_type": "code",
   "execution_count": 6,
   "id": "d0011fc1",
   "metadata": {},
   "outputs": [
    {
     "name": "stdout",
     "output_type": "stream",
     "text": [
      "[100.89172784]\n"
     ]
    }
   ],
   "source": [
    "# AR example\n",
    "from statsmodels.tsa.ar_model import AutoReg\n",
    "from random import random\n",
    "# contrived dataset\n",
    "data = [x + random() for x in range(1, 100)]\n",
    "# fit model\n",
    "model = AutoReg(data, lags=1)\n",
    "model_fit = model.fit()\n",
    "# make prediction\n",
    "yhat = model_fit.predict(len(data), len(data))\n",
    "print(yhat)"
   ]
  },
  {
   "cell_type": "code",
   "execution_count": 7,
   "id": "7cf34d05",
   "metadata": {
    "scrolled": true
   },
   "outputs": [
    {
     "data": {
      "text/plain": [
       "[1.4031416040672733,\n",
       " 2.1803951003175186,\n",
       " 3.74216444694184,\n",
       " 4.879665767259423,\n",
       " 5.106820432551564,\n",
       " 6.672385726188647,\n",
       " 7.73051677259833,\n",
       " 8.536838591890149,\n",
       " 9.870214158326647,\n",
       " 10.703371586413503,\n",
       " 11.526435808858352,\n",
       " 12.499762511210529,\n",
       " 13.074147479911376,\n",
       " 14.09994889429684,\n",
       " 15.846259732510907,\n",
       " 16.494667933911945,\n",
       " 17.238419974687282,\n",
       " 18.61226412355082,\n",
       " 19.35165032444439,\n",
       " 20.25392620532907,\n",
       " 21.762309143666087,\n",
       " 22.616972414467234,\n",
       " 23.40992376396112,\n",
       " 24.40108289265188,\n",
       " 25.367875521682844,\n",
       " 26.955683703936064,\n",
       " 27.77220633605053,\n",
       " 28.733273548770022,\n",
       " 29.585497447089086,\n",
       " 30.111837377319667,\n",
       " 31.034358299111155,\n",
       " 32.64393274849202,\n",
       " 33.83178526378542,\n",
       " 34.39577664810264,\n",
       " 35.723292682611074,\n",
       " 36.33924387700681,\n",
       " 37.87797093187593,\n",
       " 38.14027845650668,\n",
       " 39.354009061367734,\n",
       " 40.17476298897104,\n",
       " 41.03667616702197,\n",
       " 42.25654253000884,\n",
       " 43.35899070914524,\n",
       " 44.18596207682409,\n",
       " 45.016086671789814,\n",
       " 46.63212638953038,\n",
       " 47.298732976383434,\n",
       " 48.47469071553363,\n",
       " 49.679900277139225,\n",
       " 50.642485713144076,\n",
       " 51.289054439695185,\n",
       " 52.14116243259392,\n",
       " 53.00253720002053,\n",
       " 54.526518528447326,\n",
       " 55.58740261663103,\n",
       " 56.247206077858245,\n",
       " 57.91794305842436,\n",
       " 58.12066877485548,\n",
       " 59.34340878336358,\n",
       " 60.01610558682277,\n",
       " 61.38041944065095,\n",
       " 62.981920267955566,\n",
       " 63.09684722791013,\n",
       " 64.97173217789346,\n",
       " 65.97913756861618,\n",
       " 66.80093415104676,\n",
       " 67.28181618057401,\n",
       " 68.45351907712875,\n",
       " 69.35845414262958,\n",
       " 70.13625175275205,\n",
       " 71.1047567324745,\n",
       " 72.05178784912218,\n",
       " 73.49620822418056,\n",
       " 74.25800209308733,\n",
       " 75.3756130620344,\n",
       " 76.93612305128804,\n",
       " 77.34381550901284,\n",
       " 78.86594453521846,\n",
       " 79.65754872922417,\n",
       " 80.863642377085,\n",
       " 81.65277501727176,\n",
       " 82.72479721300662,\n",
       " 83.23672513253112,\n",
       " 84.75852281968679,\n",
       " 85.61468979041194,\n",
       " 86.14664117272896,\n",
       " 87.8847169355782,\n",
       " 88.49483340670896,\n",
       " 89.74775532723,\n",
       " 90.45902795659693,\n",
       " 91.71173237155915,\n",
       " 92.84575663573973,\n",
       " 93.02740111450855,\n",
       " 94.49588927848973,\n",
       " 95.67994352289651,\n",
       " 96.6794001864321,\n",
       " 97.74281310428287,\n",
       " 98.0590375532162,\n",
       " 99.88181484167974]"
      ]
     },
     "execution_count": 7,
     "metadata": {},
     "output_type": "execute_result"
    }
   ],
   "source": [
    "data"
   ]
  },
  {
   "cell_type": "code",
   "execution_count": 3,
   "id": "f047df37",
   "metadata": {},
   "outputs": [
    {
     "data": {
      "text/plain": [
       "99"
      ]
     },
     "execution_count": 3,
     "metadata": {},
     "output_type": "execute_result"
    }
   ],
   "source": [
    "len(data)"
   ]
  },
  {
   "cell_type": "code",
   "execution_count": 9,
   "id": "17dc7da6",
   "metadata": {},
   "outputs": [
    {
     "name": "stdout",
     "output_type": "stream",
     "text": [
      "[2.40313067 3.18046249 4.74238922]\n"
     ]
    }
   ],
   "source": [
    "# yhat = model_fit.predict(len(data), len(data))\n",
    "yhat = model_fit.predict(1, 3)  ## Where to start and where to end forecast. Starts at 1 and ends at 3.\n",
    "# Which means the forecast is for 2nd, 3rd and 4th values.\n",
    "print(yhat)"
   ]
  },
  {
   "cell_type": "code",
   "execution_count": 10,
   "id": "31250c5d",
   "metadata": {},
   "outputs": [
    {
     "name": "stdout",
     "output_type": "stream",
     "text": [
      "[0.56926988]\n"
     ]
    },
    {
     "name": "stderr",
     "output_type": "stream",
     "text": [
      "C:\\Users\\61431\\anaconda4\\lib\\site-packages\\statsmodels\\tsa\\statespace\\sarimax.py:966: UserWarning: Non-stationary starting autoregressive parameters found. Using zeros as starting parameters.\n",
      "  warn('Non-stationary starting autoregressive parameters'\n",
      "C:\\Users\\61431\\anaconda4\\lib\\site-packages\\statsmodels\\tsa\\statespace\\sarimax.py:978: UserWarning: Non-invertible starting MA parameters found. Using zeros as starting parameters.\n",
      "  warn('Non-invertible starting MA parameters found.'\n"
     ]
    }
   ],
   "source": [
    "## ARMA Model\n",
    "# ARMA example\n",
    "from statsmodels.tsa.arima.model import ARIMA\n",
    "from random import random\n",
    "# contrived dataset\n",
    "data = [random() for x in range(1, 100)]\n",
    "# fit model\n",
    "model = ARIMA(data, order=(2, 0, 1))\n",
    "model_fit = model.fit()\n",
    "# make prediction\n",
    "yhat = model_fit.predict(len(data), len(data))\n",
    "print(yhat)"
   ]
  },
  {
   "cell_type": "code",
   "execution_count": null,
   "id": "9454b975",
   "metadata": {},
   "outputs": [],
   "source": []
  }
 ],
 "metadata": {
  "kernelspec": {
   "display_name": "Python 3 (ipykernel)",
   "language": "python",
   "name": "python3"
  },
  "language_info": {
   "codemirror_mode": {
    "name": "ipython",
    "version": 3
   },
   "file_extension": ".py",
   "mimetype": "text/x-python",
   "name": "python",
   "nbconvert_exporter": "python",
   "pygments_lexer": "ipython3",
   "version": "3.10.9"
  }
 },
 "nbformat": 4,
 "nbformat_minor": 5
}
