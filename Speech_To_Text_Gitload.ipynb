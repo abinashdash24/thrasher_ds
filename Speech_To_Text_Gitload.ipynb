{
 "cells": [
  {
   "cell_type": "code",
   "execution_count": 41,
   "id": "fd1c6e3c",
   "metadata": {},
   "outputs": [],
   "source": [
    "import boto3\n",
    "import pandas as pd\n",
    "import time\n",
    "import os\n",
    "import json\n",
    "import urllib\n",
    "from datetime import date\n",
    "import seaborn as sns\n",
    "import numpy as np"
   ]
  },
  {
   "cell_type": "code",
   "execution_count": 2,
   "id": "d91c16ff",
   "metadata": {},
   "outputs": [],
   "source": [
    "aws_access_key_id = '------------------------'\n",
    "aws_secret_access_key= '--------------------------'\n",
    "region_name='ap-southeast-2'"
   ]
  },
  {
   "cell_type": "code",
   "execution_count": 3,
   "id": "043c7545",
   "metadata": {},
   "outputs": [],
   "source": [
    "session = boto3.session.Session(aws_access_key_id=aws_access_key_id,aws_secret_access_key=aws_secret_access_key,\n",
    "                               region_name=region_name)"
   ]
  },
  {
   "cell_type": "code",
   "execution_count": 4,
   "id": "0160e390",
   "metadata": {},
   "outputs": [
    {
     "name": "stderr",
     "output_type": "stream",
     "text": [
      "/home/ec2-user/anaconda3/envs/python3/lib/python3.6/site-packages/boto3/compat.py:88: PythonDeprecationWarning: Boto3 will no longer support Python 3.6 starting May 30, 2022. To continue receiving service updates, bug fixes, and security updates please upgrade to Python 3.7 or later. More information can be found here: https://aws.amazon.com/blogs/developer/python-support-policy-updates-for-aws-sdks-and-tools/\n",
      "  warnings.warn(warning, PythonDeprecationWarning)\n"
     ]
    }
   ],
   "source": [
    "s3 = boto3.client('s3')"
   ]
  },
  {
   "cell_type": "code",
   "execution_count": 5,
   "id": "b2a77c0b",
   "metadata": {},
   "outputs": [
    {
     "data": {
      "text/plain": [
       "[{'Name': '327746165995-ap-southeast-2-personalizedemoml',\n",
       "  'CreationDate': datetime.datetime(2021, 6, 2, 11, 4, 44, tzinfo=tzlocal())},\n",
       " {'Name': 'heavy-metal-bucket',\n",
       "  'CreationDate': datetime.datetime(2021, 6, 2, 10, 43, 43, tzinfo=tzlocal())},\n",
       " {'Name': 'thrashtranscribeinput',\n",
       "  'CreationDate': datetime.datetime(2022, 8, 2, 6, 5, 43, tzinfo=tzlocal())},\n",
       " {'Name': 'thrashtranscribeoutput',\n",
       "  'CreationDate': datetime.datetime(2022, 8, 1, 5, 35, 32, tzinfo=tzlocal())}]"
      ]
     },
     "execution_count": 5,
     "metadata": {},
     "output_type": "execute_result"
    }
   ],
   "source": [
    "s3.list_buckets()['Buckets']"
   ]
  },
  {
   "cell_type": "code",
   "execution_count": 6,
   "id": "ce29d3bc",
   "metadata": {},
   "outputs": [
    {
     "data": {
      "text/plain": [
       "{'Name': 'heavy-metal-bucket',\n",
       " 'CreationDate': datetime.datetime(2021, 6, 2, 10, 43, 43, tzinfo=tzlocal())}"
      ]
     },
     "execution_count": 6,
     "metadata": {},
     "output_type": "execute_result"
    }
   ],
   "source": [
    "s3.list_buckets()['Buckets'][1]"
   ]
  },
  {
   "cell_type": "code",
   "execution_count": 23,
   "id": "1435e8d0",
   "metadata": {},
   "outputs": [
    {
     "name": "stderr",
     "output_type": "stream",
     "text": [
      "/home/ec2-user/anaconda3/envs/python3/lib/python3.6/site-packages/boto3/compat.py:88: PythonDeprecationWarning: Boto3 will no longer support Python 3.6 starting May 30, 2022. To continue receiving service updates, bug fixes, and security updates please upgrade to Python 3.7 or later. More information can be found here: https://aws.amazon.com/blogs/developer/python-support-policy-updates-for-aws-sdks-and-tools/\n",
      "  warnings.warn(warning, PythonDeprecationWarning)\n"
     ]
    },
    {
     "name": "stdout",
     "output_type": "stream",
     "text": [
      "samples_mp3_ted_speakers_BillGates_sample-1\n",
      "samples_mp3_ted_speakers_BillGates_sample-2\n",
      "samples_mp3_ted_speakers_BillGates_sample-3\n",
      "samples_mp3_ted_speakers_BillGates_sample\n",
      "transcribe-sample.5fc2109bb28268d10fbc677e64b7e59256783d3c\n"
     ]
    },
    {
     "data": {
      "text/html": [
       "<div>\n",
       "<style scoped>\n",
       "    .dataframe tbody tr th:only-of-type {\n",
       "        vertical-align: middle;\n",
       "    }\n",
       "\n",
       "    .dataframe tbody tr th {\n",
       "        vertical-align: top;\n",
       "    }\n",
       "\n",
       "    .dataframe thead th {\n",
       "        text-align: right;\n",
       "    }\n",
       "</style>\n",
       "<table border=\"1\" class=\"dataframe\">\n",
       "  <thead>\n",
       "    <tr style=\"text-align: right;\">\n",
       "      <th></th>\n",
       "      <th>file_name</th>\n",
       "      <th>job_name</th>\n",
       "    </tr>\n",
       "  </thead>\n",
       "  <tbody>\n",
       "    <tr>\n",
       "      <th>0</th>\n",
       "      <td>samples_mp3_ted_speakers_BillGates_sample-1.mp3</td>\n",
       "      <td>samples_mp3_ted_speakers_BillGates_sample-1</td>\n",
       "    </tr>\n",
       "    <tr>\n",
       "      <th>1</th>\n",
       "      <td>samples_mp3_ted_speakers_BillGates_sample-2.mp3</td>\n",
       "      <td>samples_mp3_ted_speakers_BillGates_sample-2</td>\n",
       "    </tr>\n",
       "    <tr>\n",
       "      <th>2</th>\n",
       "      <td>samples_mp3_ted_speakers_BillGates_sample-3.mp3</td>\n",
       "      <td>samples_mp3_ted_speakers_BillGates_sample-3</td>\n",
       "    </tr>\n",
       "    <tr>\n",
       "      <th>3</th>\n",
       "      <td>samples_mp3_ted_speakers_BillGates_sample.mp3</td>\n",
       "      <td>samples_mp3_ted_speakers_BillGates_sample</td>\n",
       "    </tr>\n",
       "    <tr>\n",
       "      <th>4</th>\n",
       "      <td>transcribe-sample.5fc2109bb28268d10fbc677e64b7...</td>\n",
       "      <td>transcribe-sample.5fc2109bb28268d10fbc677e64b7...</td>\n",
       "    </tr>\n",
       "  </tbody>\n",
       "</table>\n",
       "</div>"
      ],
      "text/plain": [
       "                                           file_name  \\\n",
       "0    samples_mp3_ted_speakers_BillGates_sample-1.mp3   \n",
       "1    samples_mp3_ted_speakers_BillGates_sample-2.mp3   \n",
       "2    samples_mp3_ted_speakers_BillGates_sample-3.mp3   \n",
       "3      samples_mp3_ted_speakers_BillGates_sample.mp3   \n",
       "4  transcribe-sample.5fc2109bb28268d10fbc677e64b7...   \n",
       "\n",
       "                                            job_name  \n",
       "0        samples_mp3_ted_speakers_BillGates_sample-1  \n",
       "1        samples_mp3_ted_speakers_BillGates_sample-2  \n",
       "2        samples_mp3_ted_speakers_BillGates_sample-3  \n",
       "3          samples_mp3_ted_speakers_BillGates_sample  \n",
       "4  transcribe-sample.5fc2109bb28268d10fbc677e64b7...  "
      ]
     },
     "execution_count": 23,
     "metadata": {},
     "output_type": "execute_result"
    }
   ],
   "source": [
    "s3_resource = boto3.resource('s3')\n",
    "\n",
    "audio_list = []\n",
    "job_list = []\n",
    "\n",
    "for object in s3_resource.Bucket('inputbucketname').objects.all():\n",
    "    if object.key[-3:] == 'mp3':\n",
    "        print(object.key[0:len(object.key)-4])\n",
    "        audio_list.append(object.key)\n",
    "        job_list.append(object.key[0:len(object.key)-4])\n",
    "        \n",
    "df_audio_files = pd.DataFrame({'file_name':audio_list,\n",
    "                              'job_name':job_list})   \n",
    "df_audio_files"
   ]
  },
  {
   "cell_type": "markdown",
   "id": "16b3a0bc",
   "metadata": {},
   "source": [
    "## Transcribe Job"
   ]
  },
  {
   "cell_type": "code",
   "execution_count": 39,
   "id": "5f64508f",
   "metadata": {},
   "outputs": [
    {
     "name": "stdout",
     "output_type": "stream",
     "text": [
      "Waiting for samples_mp3_ted_speakers_BillGates_sample-1. Current status is IN_PROGRESS.\n",
      "Waiting for samples_mp3_ted_speakers_BillGates_sample-1. Current status is IN_PROGRESS.\n",
      "Job samples_mp3_ted_speakers_BillGates_sample-1 is COMPLETED.\n",
      "========== below is output of speech-to-text ========================\n",
      "He said the same phrase 30 times.\n",
      "=====================================================================\n",
      "Waiting for samples_mp3_ted_speakers_BillGates_sample-2. Current status is IN_PROGRESS.\n",
      "Waiting for samples_mp3_ted_speakers_BillGates_sample-2. Current status is IN_PROGRESS.\n",
      "Job samples_mp3_ted_speakers_BillGates_sample-2 is COMPLETED.\n",
      "========== below is output of speech-to-text ========================\n",
      "Pluck the bright rose without leaves.\n",
      "=====================================================================\n",
      "Waiting for samples_mp3_ted_speakers_BillGates_sample-3. Current status is IN_PROGRESS.\n",
      "Waiting for samples_mp3_ted_speakers_BillGates_sample-3. Current status is IN_PROGRESS.\n",
      "Job samples_mp3_ted_speakers_BillGates_sample-3 is COMPLETED.\n",
      "========== below is output of speech-to-text ========================\n",
      "two Plus 7 is less than 10.\n",
      "=====================================================================\n",
      "Waiting for samples_mp3_ted_speakers_BillGates_sample. Current status is IN_PROGRESS.\n",
      "Waiting for samples_mp3_ted_speakers_BillGates_sample. Current status is IN_PROGRESS.\n",
      "Job samples_mp3_ted_speakers_BillGates_sample is COMPLETED.\n",
      "========== below is output of speech-to-text ========================\n",
      "Cramp is no small danger on a swim.\n",
      "=====================================================================\n",
      "Waiting for transcribe-sample.5fc2109bb28268d10fbc677e64b7e59256783d3c. Current status is IN_PROGRESS.\n",
      "Waiting for transcribe-sample.5fc2109bb28268d10fbc677e64b7e59256783d3c. Current status is IN_PROGRESS.\n",
      "Waiting for transcribe-sample.5fc2109bb28268d10fbc677e64b7e59256783d3c. Current status is IN_PROGRESS.\n",
      "Waiting for transcribe-sample.5fc2109bb28268d10fbc677e64b7e59256783d3c. Current status is IN_PROGRESS.\n",
      "Job transcribe-sample.5fc2109bb28268d10fbc677e64b7e59256783d3c is COMPLETED.\n",
      "========== below is output of speech-to-text ========================\n",
      "Machine learning is employed in a range of computing tasks where designing and programming explicit algorithms with good performance is difficult or infeasible. Example applications include email filtering, detection of network intruders and computer vision. Machine learning is closely related to computational statistics, which also focuses on predictions making through the use of computer. It has strong ties to mathematical optimization, which delivers methods, theory and application domains to the field.\n",
      "=====================================================================\n",
      "processing time = 122.5149085521698\n"
     ]
    }
   ],
   "source": [
    "transcribe_client = boto3.client('transcribe')\n",
    "\n",
    "st_time = time.time()\n",
    "\n",
    "\n",
    "def transcribe_file(job_name, file_uri, transcribe_client):\n",
    "    transcribe_client.start_transcription_job(\n",
    "        TranscriptionJobName=job_name,\n",
    "        Media={'MediaFileUri': file_uri},\n",
    "        MediaFormat='mp3',\n",
    "        LanguageCode='en-US'\n",
    "    )\n",
    "\n",
    "    max_tries = 60\n",
    "    while max_tries > 0:\n",
    "        max_tries -= 1\n",
    "        job = transcribe_client.get_transcription_job(TranscriptionJobName=job_name)\n",
    "        job_status = job['TranscriptionJob']['TranscriptionJobStatus']\n",
    "        if job_status in ['COMPLETED', 'FAILED']:\n",
    "            print(f\"Job {job_name} is {job_status}.\")\n",
    "            if job_status == 'COMPLETED':\n",
    "                response = urllib.request.urlopen(job['TranscriptionJob']['Transcript']['TranscriptFileUri'])\n",
    "                data = json.loads(response.read())\n",
    "                text = data['results']['transcripts'][0]['transcript']\n",
    "                print(\"========== below is output of speech-to-text ========================\")\n",
    "                print(text)\n",
    "                print(\"=====================================================================\")\n",
    "            break\n",
    "        else:\n",
    "            print(f\"Waiting for {job_name}. Current status is {job_status}.\")\n",
    "        time.sleep(10)\n",
    "\n",
    "\n",
    "# def main():\n",
    "for i in range(df_audio_files.shape[0]):\n",
    "    file_uri = 's3://inputbucketname/'+df_audio_files.iloc[i,0]\n",
    "    job_name = df_audio_files.iloc[i,1]\n",
    "    transcribe_file(job_name, file_uri, transcribe_client)\n",
    "#     return\n",
    "\n",
    "\n",
    "# if __name__ == '__main__':\n",
    "#     main()\n",
    "\n",
    "    \n",
    "print('processing time = %s' %(time.time()-st_time))    "
   ]
  }
 ],
 "metadata": {
  "kernelspec": {
   "display_name": "Python 3 (ipykernel)",
   "language": "python",
   "name": "python3"
  },
  "language_info": {
   "codemirror_mode": {
    "name": "ipython",
    "version": 3
   },
   "file_extension": ".py",
   "mimetype": "text/x-python",
   "name": "python",
   "nbconvert_exporter": "python",
   "pygments_lexer": "ipython3",
   "version": "3.7.16"
  }
 },
 "nbformat": 4,
 "nbformat_minor": 5
}
